{
 "cells": [
  {
   "cell_type": "code",
   "execution_count": 4,
   "metadata": {},
   "outputs": [
    {
     "ename": "SystemError",
     "evalue": "<class 'cv2.CascadeClassifier'> returned a result with an error set",
     "output_type": "error",
     "traceback": [
      "\u001b[1;31m---------------------------------------------------------------------------\u001b[0m",
      "\u001b[1;31merror\u001b[0m                                     Traceback (most recent call last)",
      "\u001b[1;31merror\u001b[0m: OpenCV(4.2.0) C:\\projects\\opencv-python\\opencv\\modules\\core\\src\\persistence.cpp:719: error: (-49:Unknown error code -49) Input file is invalid in function 'cv::FileStorage::Impl::open'\n",
      "\nThe above exception was the direct cause of the following exception:\n",
      "\u001b[1;31mSystemError\u001b[0m                               Traceback (most recent call last)",
      "\u001b[1;32m<ipython-input-4-0b03d3e6acc0>\u001b[0m in \u001b[0;36m<module>\u001b[1;34m\u001b[0m\n\u001b[0;32m      6\u001b[0m \u001b[1;33m\u001b[0m\u001b[0m\n\u001b[0;32m      7\u001b[0m \u001b[1;31m# create a haar-cascade object for face detection\u001b[0m\u001b[1;33m\u001b[0m\u001b[1;33m\u001b[0m\u001b[1;33m\u001b[0m\u001b[0m\n\u001b[1;32m----> 8\u001b[1;33m \u001b[0mface_cas\u001b[0m \u001b[1;33m=\u001b[0m \u001b[0mcv2\u001b[0m\u001b[1;33m.\u001b[0m\u001b[0mCascadeClassifier\u001b[0m\u001b[1;33m(\u001b[0m\u001b[1;34m'opencv_haarcascade_frontalface_default.xml'\u001b[0m\u001b[1;33m)\u001b[0m\u001b[1;33m\u001b[0m\u001b[1;33m\u001b[0m\u001b[0m\n\u001b[0m\u001b[0;32m      9\u001b[0m \u001b[1;33m\u001b[0m\u001b[0m\n\u001b[0;32m     10\u001b[0m \u001b[1;31m# create a placeholder for storing the data\u001b[0m\u001b[1;33m\u001b[0m\u001b[1;33m\u001b[0m\u001b[1;33m\u001b[0m\u001b[0m\n",
      "\u001b[1;31mSystemError\u001b[0m: <class 'cv2.CascadeClassifier'> returned a result with an error set"
     ]
    }
   ],
   "source": [
    "import numpy as np\n",
    "import cv2\n",
    "\n",
    "# instantiate a camera object to capture images\n",
    "cam = cv2.VideoCapture(1)\n",
    "\n",
    "# create a haar-cascade object for face detection\n",
    "face_cas = cv2.CascadeClassifier('opencv_haarcascade_frontalface_default.xml')\n",
    "\n",
    "# create a placeholder for storing the data\n",
    "data = []\n",
    "ix = 0\t# current frame number\n",
    "\n",
    "while True:\n",
    "\t# retrieve the ret (boolean) and frame from camera\n",
    "\tret, frame = cam.read()\n",
    "\n",
    "\t# if the camera is working fine, we proceed to extract the face\n",
    "\tif ret == True:\n",
    "\t\t# convert the current frame to grayscale\n",
    "\t\tgray = cv2.cvtColor(frame, cv2.COLOR_BGR2GRAY)\n",
    "\n",
    "\t\t# apply the haar cascade to detect faces in the current frame\n",
    "\t\t# the other parameters 1.3 and 5 are fine tuning parameters\n",
    "\t\t# for the haar cascade object\n",
    "\t\tfaces = face_cas.detectMultiScale(gray, 1.3, 5)\n",
    "\n",
    "\t\t# for each face object we get, we have\n",
    "\t\t# the corner coords (x, y)\n",
    "\t\t# and the width and height of the face\n",
    "\t\tfor (x, y, w, h) in faces:\n",
    "\n",
    "\t\t\t# get the face component from the image frame\n",
    "\t\t\tface_component = frame[y:y+h, x:x+w, :]\n",
    "\n",
    "\t\t\t# resize the face image to 50X50X3\n",
    "\t\t\tfc = cv2.resize(face_component, (50, 50))\n",
    "\n",
    "\t\t\t# store the face data after every 10 frames\n",
    "\t\t\t# only if the number of entries is less than 20\n",
    "\t\t\tif ix%10 == 0 and len(data) < 20:\n",
    "\t\t\t\tdata.append(fc)\n",
    "\n",
    "\t\t\t# for visualization, draw a rectangle around the face\n",
    "\t\t\t# in the image\n",
    "\t\t\tcv2.rectangle(frame, (x, y), (x+w, y+h), (0, 255, 0), 2)\n",
    "\t\tix += 1\t# increment the current frame number\n",
    "\t\tcv2.imshow('frame', frame)\t# display the frame\n",
    "\n",
    "\t\t# if the user presses the escape key (ID: 27)\n",
    "\t\t# or the number of images hits 20, we stop\n",
    "\t\t# recording.\n",
    "\t\tif cv2.waitKey(1) == 27 or len(data) >= 20:\n",
    "\t\t\tbreak\n",
    "\telse:\n",
    "\t\t# if the camera is not working, print \"error\"\n",
    "\t\tprint (\"error\")\n",
    "\n",
    "# now we destroy the windows we have created\n",
    "cv2.destroyAllWindows()\n",
    "\n",
    "# convert the data to a numpy format\n",
    "data = np.asarray(data)\n",
    "\n",
    "# print the shape as a sanity-check\n",
    "print (data.shape)\n",
    "\n",
    "# save the data as a numpy matrix in an encoded format\n",
    "np.save('face_03', data)\n",
    "\n",
    "# We'll run the script for different people and store\n",
    "# the data into multiple files"
   ]
  },
  {
   "cell_type": "code",
   "execution_count": null,
   "metadata": {},
   "outputs": [],
   "source": []
  }
 ],
 "metadata": {
  "kernelspec": {
   "display_name": "Python 3",
   "language": "python",
   "name": "python3"
  },
  "language_info": {
   "codemirror_mode": {
    "name": "ipython",
    "version": 3
   },
   "file_extension": ".py",
   "mimetype": "text/x-python",
   "name": "python",
   "nbconvert_exporter": "python",
   "pygments_lexer": "ipython3",
   "version": "3.8.2"
  }
 },
 "nbformat": 4,
 "nbformat_minor": 4
}
